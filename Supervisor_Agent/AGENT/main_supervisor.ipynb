{
 "cells": [
  {
   "cell_type": "markdown",
   "id": "caf7d2c5",
   "metadata": {},
   "source": [
    "**Supervisor Agent**"
   ]
  },
  {
   "cell_type": "code",
   "execution_count": 3,
   "id": "43f5b0f8",
   "metadata": {},
   "outputs": [],
   "source": [
    "from langchain_groq import ChatGroq\n",
    "from langgraph_supervisor import create_supervisor\n",
    "from langgraph.prebuilt import create_react_agent\n",
    "import os\n",
    "from dotenv import load_dotenv\n",
    "from langchain_tavily import TavilySearch\n"
   ]
  },
  {
   "cell_type": "code",
   "execution_count": 7,
   "id": "ff6733e0",
   "metadata": {},
   "outputs": [],
   "source": [
    "load_dotenv()\n",
    "\n",
    "llm = ChatGroq(\n",
    "    temperature=0,  # Lower temperature for more factual responses\n",
    "    groq_api_key=os.getenv(\"GROQ_API_KEY\"),\n",
    "    model_name=\"llama-3.3-70b-versatile\"\n",
    ")\n"
   ]
  },
  {
   "cell_type": "code",
   "execution_count": null,
   "id": "a13b08d9",
   "metadata": {},
   "outputs": [
    {
     "ename": "TypeError",
     "evalue": "create_supervisor() got an unexpected keyword argument 'return_messages'",
     "output_type": "error",
     "traceback": [
      "\u001b[31m---------------------------------------------------------------------------\u001b[39m",
      "\u001b[31mTypeError\u001b[39m                                 Traceback (most recent call last)",
      "\u001b[36mCell\u001b[39m\u001b[36m \u001b[39m\u001b[32mIn[11]\u001b[39m\u001b[32m, line 28\u001b[39m\n\u001b[32m     21\u001b[39m research_agent=create_react_agent(\n\u001b[32m     22\u001b[39m     model=llm,\n\u001b[32m     23\u001b[39m     tools=[web_search],\n\u001b[32m     24\u001b[39m     name=\u001b[33m\"\u001b[39m\u001b[33mresearch_expert\u001b[39m\u001b[33m\"\u001b[39m,\n\u001b[32m     25\u001b[39m )\n\u001b[32m     27\u001b[39m \u001b[38;5;66;03m#create supervisor agent\u001b[39;00m\n\u001b[32m---> \u001b[39m\u001b[32m28\u001b[39m workflow = \u001b[43mcreate_supervisor\u001b[49m\u001b[43m(\u001b[49m\n\u001b[32m     29\u001b[39m \u001b[43m    \u001b[49m\u001b[43m[\u001b[49m\u001b[43mresearch_agent\u001b[49m\u001b[43m,\u001b[49m\u001b[43m \u001b[49m\u001b[43mmath_agent\u001b[49m\u001b[43m]\u001b[49m\u001b[43m,\u001b[49m\n\u001b[32m     30\u001b[39m \u001b[43m    \u001b[49m\u001b[43mmodel\u001b[49m\u001b[43m=\u001b[49m\u001b[43mllm\u001b[49m\u001b[43m,\u001b[49m\n\u001b[32m     31\u001b[39m \u001b[43m    \u001b[49m\u001b[38;5;66;43;03m# Add these configuration parameters\u001b[39;49;00m\n\u001b[32m     32\u001b[39m \u001b[43m    \u001b[49m\u001b[43mreturn_messages\u001b[49m\u001b[43m=\u001b[49m\u001b[38;5;28;43;01mTrue\u001b[39;49;00m\u001b[43m,\u001b[49m\n\u001b[32m     33\u001b[39m \u001b[43m    \u001b[49m\u001b[43mchannels\u001b[49m\u001b[43m=\u001b[49m\u001b[43m[\u001b[49m\u001b[33;43m\"\u001b[39;49m\u001b[33;43mis_last_step\u001b[39;49m\u001b[33;43m\"\u001b[39;49m\u001b[43m,\u001b[49m\u001b[43m \u001b[49m\u001b[33;43m\"\u001b[39;49m\u001b[33;43mremaining_steps\u001b[39;49m\u001b[33;43m\"\u001b[39;49m\u001b[43m]\u001b[49m\u001b[43m  \u001b[49m\u001b[38;5;66;43;03m# Ensure these match what supervisor expects\u001b[39;49;00m\n\u001b[32m     34\u001b[39m \u001b[43m)\u001b[49m\n\u001b[32m     36\u001b[39m \u001b[38;5;66;03m#compile and run\u001b[39;00m\n\u001b[32m     37\u001b[39m app=workflow.compile()\n",
      "\u001b[31mTypeError\u001b[39m: create_supervisor() got an unexpected keyword argument 'return_messages'"
     ]
    }
   ],
   "source": [
    "#create specialized agents\n",
    "def add(a:float, b:float)-> float:\n",
    "    '''Add two numbers'''\n",
    "    return a+b\n",
    "\n",
    "def web_search(query:str)->str:\n",
    "    '''Search web information'''\n",
    "    TAVILY_API_KEY=os.getenv(\"TAVILY_API_KEY\")\n",
    "    web_search = TavilySearch(max_results=3)\n",
    "    web_search_results=web_search.invoke(query)\n",
    "    return web_search_results[\"results\"][0][\"content\"]\n",
    "\n",
    "#create the first agent\n",
    "math_agent=create_react_agent(\n",
    "    model=llm,\n",
    "    tools=[add],\n",
    "    name=\"math_expert\",\n",
    ")\n",
    "\n",
    "#create the research agent\n",
    "research_agent=create_react_agent(\n",
    "    model=llm,\n",
    "    tools=[web_search],\n",
    "    name=\"research_expert\",\n",
    ")\n",
    "\n",
    "#create supervisor agent\n",
    "workflow=create_supervisor(\n",
    "    [research_agent, math_agent],\n",
    "    model=llm,\n",
    ")\n",
    "\n",
    "#compile and run\n",
    "app=workflow.compile()\n",
    "result=app.invoke({\n",
    "    \"messages\":[{\n",
    "        \"role\":\"user\",\n",
    "        \"content\":\"What is the name of Name Gachagua's Party?\"\n",
    "    }]\n",
    "})\n",
    "\n"
   ]
  },
  {
   "cell_type": "code",
   "execution_count": 10,
   "id": "3e1ecded",
   "metadata": {},
   "outputs": [
    {
     "data": {
      "image/png": "[encoded data removed]",
      "text/plain": [
       "<IPython.core.display.Image object>"
      ]
     },
     "metadata": {},
     "output_type": "display_data"
    }
   ],
   "source": [
    "from IPython.display import display, Image\n",
    "display(Image(app.get_graph().draw_mermaid_png()))"
   ]
  }
 ],
 "metadata": {
  "kernelspec": {
   "display_name": "venv",
   "language": "python",
   "name": "python3"
  },
  "language_info": {
   "codemirror_mode": {
    "name": "ipython",
    "version": 3
   },
   "file_extension": ".py",
   "mimetype": "text/x-python",
   "name": "python",
   "nbconvert_exporter": "python",
   "pygments_lexer": "ipython3",
   "version": "3.11.2"
  }
 },
 "nbformat": 4,
 "nbformat_minor": 5
}
