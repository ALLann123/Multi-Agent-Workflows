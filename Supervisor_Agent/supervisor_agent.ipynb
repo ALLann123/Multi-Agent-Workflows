{
 "cells": [
  {
   "cell_type": "markdown",
   "id": "bc179957",
   "metadata": {},
   "source": [
    "**MULTI-AGENT(SuperVisor)**"
   ]
  },
  {
   "cell_type": "markdown",
   "id": "b5f5036e",
   "metadata": {},
   "source": [
    "#requirements\n",
    "pip install -U langgraph langgraph-supervisor langchain-tavily langchain_groq langchain_community langchain_tavily html2text  langgraph_supervisor\n"
   ]
  },
  {
   "cell_type": "code",
   "execution_count": 4,
   "id": "0f3a2ac4",
   "metadata": {},
   "outputs": [
    {
     "name": "stdout",
     "output_type": "stream",
     "text": [
      "AI: Hello. How can I assist you today?\n"
     ]
    }
   ],
   "source": [
    "#testing LLM\n",
    "from langchain_groq import ChatGroq\n",
    "from dotenv import load_dotenv\n",
    "import os\n",
    "\n",
    "load_dotenv()\n",
    "\n",
    "llm = ChatGroq(\n",
    "    temperature=0,  # Lower temperature for more factual responses\n",
    "    groq_api_key=os.getenv(\"GROQ_API_KEY\"),\n",
    "    model_name=\"llama-3.3-70b-versatile\"\n",
    ")\n",
    "\n",
    "\n",
    "result=llm.invoke(\"Hello\")\n",
    "print(f\"AI: {result.content}\")"
   ]
  },
  {
   "cell_type": "markdown",
   "id": "e3441fa3",
   "metadata": {},
   "source": [
    "**1 Create Worker Agents**\n",
    "\n",
    "First, lets create our specialized agents.\n",
    "\n",
    "\n",
    "*   Research Agent\n",
    "*   Administrator\n",
    "*   Decryptor\n"
   ]
  },
  {
   "cell_type": "markdown",
   "id": "1353c575",
   "metadata": {},
   "source": [
    "**a) Research Agent**\n",
    "\n",
    "For gathering information using Tavily Search tool, web scraping using the loader and also information on exploits from the exploit db."
   ]
  },
  {
   "cell_type": "code",
   "execution_count": 5,
   "id": "b4e17f59",
   "metadata": {},
   "outputs": [
    {
     "name": "stdout",
     "output_type": "stream",
     "text": [
      "5.   **Buffer Overflow**: This attack exploits vulnerabilities in FTP software by overwriting the application’s memory, potentially altering system functionality or exposing sensitive information. This application is vulnerable to a directory traversal attack, which enables an attacker to download, upload, and delete arbitrary files outside of the FTP server’s root directory. After downloading the exploit file from the provided link on Exploit-DB, we’re ready to proceed with exploiting the vulnerability in the HOME FTP Server application. As soon as the victim connects to the attacker’s FTP server, the exploit is triggered, allowing the attacker to gain control of the victim’s machine. The server allowed anonymous login, lacked brute force protection, and was susceptible to directory traversal attacks, XSS vulnerabilities, and buffer overflow exploits.\n"
     ]
    }
   ],
   "source": [
    "#lets test the search tool\n",
    "from langchain_tavily import TavilySearch\n",
    "TAVILY_API_KEY=os.getenv(\"TAVILY_API_KEY\")\n",
    "web_search = TavilySearch(max_results=3)\n",
    "web_search_results = web_search.invoke(\"Exploiting FTP Anonymous\")\n",
    "\n",
    "print(web_search_results[\"results\"][0][\"content\"])"
   ]
  },
  {
   "cell_type": "code",
   "execution_count": 6,
   "id": "fde71eac",
   "metadata": {},
   "outputs": [
    {
     "name": "stderr",
     "output_type": "stream",
     "text": [
      "USER_AGENT environment variable not set, consider setting it to identify your requests.\n"
     ]
    }
   ],
   "source": [
    "# Let's build the research agent tools\n",
    "from langchain_tavily import TavilySearch\n",
    "from langchain.tools import tool  # Correct import\n",
    "from exploit_info import get_cve_info\n",
    "from web_scrape import scrape_web_pages\n",
    "\n",
    "# Tool 1 — Tavily Search Tool\n",
    "web_search = TavilySearch(max_results=3)\n",
    "\n",
    "# Tool 2 — CVE information\n",
    "@tool\n",
    "def exploit_search(query: str) -> str:\n",
    "    \"\"\"Use this to search CVEs on NVD for a certain service.\"\"\"\n",
    "    result = get_cve_info(query)\n",
    "    return result\n",
    "\n",
    "# Tool 3 — Web scraper for information from links\n",
    "@tool\n",
    "def web_scraper(query: list[str]) -> str:\n",
    "    \"\"\"Scrape and return page contents using LangChain's WebBaseLoader.\"\"\"\n",
    "    results = scrape_web_pages(query)\n",
    "    return str(results)\n"
   ]
  },
  {
   "cell_type": "code",
   "execution_count": 7,
   "id": "10fc6173",
   "metadata": {},
   "outputs": [],
   "source": [
    "#lets create the agent and add the tools\n",
    "from langgraph.prebuilt import create_react_agent\n",
    "\n",
    "research_agent=create_react_agent(\n",
    "    model=llm,\n",
    "    tools=[web_search,web_scraper, exploit_search],\n",
    "    prompt=(\n",
    "        \"You are a Penetration Testing research agent.\\n\\n\" \\\n",
    "        \"INSTRUCTIONS:\\n\" \\\n",
    "        \"You have three tools to help you with your research allowing you to be able to perform:\"\n",
    "        \"web searches, query CVE information and web scraping to get more information from URLs.\" \\\n",
    "        \"After you're done with your tasks, respond to the supervisor directly\\n\" \\\n",
    "        \"Respond ONLY with the results of your work, do NOT include ANY other text\"\n",
    "    ),\n",
    "    name=\"research_agent\",\n",
    ")"
   ]
  },
  {
   "cell_type": "markdown",
   "id": "8f4b447b",
   "metadata": {},
   "source": [
    "**b.) Terminal Agent**\n",
    "\n",
    "For this Agent we will want to give it access to a Kali Linux Terminal."
   ]
  },
  {
   "cell_type": "code",
   "execution_count": 9,
   "id": "c2191791",
   "metadata": {},
   "outputs": [],
   "source": [
    "#kali linux tools\n",
    "from kali import connected_kali\n",
    "\n",
    "@tool\n",
    "def kali_linux(query:str)->str:\n",
    "    \"\"\"Access to a Kali Linux Terminal, useful for runing CLI tools during penetration testing and CTFs\"\"\"\n",
    "    result=connected_kali(query)\n",
    "    return result\n",
    "\n",
    "terminal_agent=create_react_agent(\n",
    "    model=llm,\n",
    "    tools=[kali_linux],\n",
    "    prompt=(\n",
    "        \"You are a Terminal Agent\\n\\n\" \\\n",
    "        \"INSTRUCTIONS:\\n\" \\\n",
    "        \"-You have multiple inbuild Kali Linux inbuild CLI tools, if not installed run apt install <tool_name>\"\n",
    "        \"-Assist ONLY with tasks related to execution of commands\\n\" \\\n",
    "        \"-After youre done with your task, respond to the supervisor directly\\n\" \\\n",
    "        \"-Respond ONLY with the results of your work, do NOT include aANY other text\"\n",
    "    ),\n",
    "    name=\"terminal_agent\",\n",
    ")"
   ]
  },
  {
   "cell_type": "markdown",
   "id": "aff8048c",
   "metadata": {},
   "source": [
    "**c.) Decrypt Agent**\n",
    "\n",
    "Agent is responsible for identifying various forms of data hiding technigues(base64) and converstions including number converstion i.e binary, hex and decimal."
   ]
  },
  {
   "cell_type": "code",
   "execution_count": 10,
   "id": "1b3a1307",
   "metadata": {},
   "outputs": [],
   "source": [
    "#write the tool first\n",
    "from decode_encode import convert_from_b64, convert_to_b64, detect_base, convert_number\n",
    "\n",
    "@tool\n",
    "def convert_from_base64(query: str)->str:\n",
    "    \"\"\"Useful when we want to convert string from base64\"\"\"\n",
    "    return convert_from_b64(query)\n",
    "\n",
    "@tool\n",
    "def convert_to_base64(query: str)->str:\n",
    "    \"\"\"Useful when converting string to base64\"\"\"\n",
    "    return convert_to_b64(query)\n",
    "\n",
    "@tool\n",
    "def number_system_id(query: str)-> str:\n",
    "    \"\"\"Detects whether the string is hex, decimal or binary\"\"\"\n",
    "    return detect_base(query)\n",
    "\n",
    "@tool\n",
    "def number_system_converter(value: str, source_format: str, target_format: str)->str:\n",
    "    \"\"\"\n",
    "    Convert a number from source_format ('hex', 'binary', 'decimal')\n",
    "    to target_format ('hex', 'binary', 'decimal').\n",
    "    \"\"\"\n",
    "    return convert_number(value, source_format, target_format)\n"
   ]
  },
  {
   "cell_type": "code",
   "execution_count": null,
   "id": "341c2a6c",
   "metadata": {},
   "outputs": [],
   "source": [
    "#write the decrytor agent\n",
    "decrypt_agent=create_react_agent(\n",
    "    model=llm,\n",
    "    tools=[convert_from_base64, convert_to_base64, number_system_id, number_system_converter],\n",
    "    prompt=(\n",
    "        \"You are the Decryption Agent.\\n\\n\" \\\n",
    "        \"INSTRUCTIONS:\" \\\n",
    "        \"-Assist ONLY with decoding of base64, and number conversions\\n\" \\\n",
    "        \"-After you're done with your tasks, respond to the supervisor directly\\n\"\n",
    "        \"-Respond ONLY with the results of your work, do NOT include ANY othaer text\"\n",
    "    ),\n",
    "    name=\"decrypt_agent\"\n",
    ")\n"
   ]
  },
  {
   "cell_type": "markdown",
   "id": "1f706f85",
   "metadata": {},
   "source": [
    "**2. Create Supervisor with langgraph-supervisor**\n",
    "\n",
    "This handles all of our agents🥶"
   ]
  },
  {
   "cell_type": "code",
   "execution_count": 12,
   "id": "ada778f0",
   "metadata": {},
   "outputs": [],
   "source": [
    "from langgraph_supervisor import create_supervisor\n",
    "\n",
    "supervisor_graph = create_supervisor(\n",
    "    model=llm,\n",
    "    agents=[research_agent, terminal_agent, decrypt_agent],\n",
    "    prompt=(\n",
    "        \"You are a Powerful Pentest supervisor managing three Security agents:\\n\"\n",
    "        \"- a research agent. Assign exploitation research-related tasks to this agent\\n\"\n",
    "        \"- a terminal agent. Assign Kali Linux command CLI execution tasks to this agent\\n\"\n",
    "        \"- a decrypt agent. Assign encoding (base64) and decoding tasks to this agent\\n\"\n",
    "        \"Assign work to one agent at a time. Do not call agents in parallel.\\n\"\n",
    "        \"Do not do any work yourself.\"\n",
    "    ),\n",
    "    add_handoff_messages=True,  # correct argument\n",
    "    add_handoff_back_messages=True,\n",
    "    output_mode=\"full_history\",\n",
    ")\n",
    "\n",
    "supervisor = supervisor_graph.compile()\n"
   ]
  },
  {
   "cell_type": "code",
   "execution_count": 13,
   "id": "1393fadd",
   "metadata": {},
   "outputs": [
    {
     "data": {
      "image/png": "[encoded data removed]",
      "text/plain": [
       "<IPython.core.display.Image object>"
      ]
     },
     "metadata": {},
     "output_type": "display_data"
    }
   ],
   "source": [
    "from IPython.display import display, Image\n",
    "display(Image(supervisor.get_graph().draw_mermaid_png()))"
   ]
  },
  {
   "cell_type": "markdown",
   "id": "d516a765",
   "metadata": {},
   "source": [
    "Lets run our agent\n"
   ]
  },
  {
   "cell_type": "code",
   "execution_count": 17,
   "id": "388f7573",
   "metadata": {},
   "outputs": [
    {
     "name": "stderr",
     "output_type": "stream",
     "text": [
      "Task supervisor with path ('__pregel_pull', 'supervisor') wrote to unknown channel is_last_step, ignoring it.\n",
      "Task supervisor with path ('__pregel_pull', 'supervisor') wrote to unknown channel remaining_steps, ignoring it.\n"
     ]
    },
    {
     "name": "stdout",
     "output_type": "stream",
     "text": [
      "[+] Searching CVEs for: Ruto latest visit CVEs\n",
      "[-] No CVEs found.\n",
      "\n",
      "[+] Scraping: https://www.zawya.com/en/press-release/africa-press-releases/south-sudans-minister-of-mines-to-showcase-ep-prospects-at-african-mining-week-amw-2025-e367q0lu\n",
      "[-] Failed to scrape https://www.zawya.com/en/press-release/africa-press-releases/south-sudans-minister-of-mines-to-showcase-ep-prospects-at-african-mining-week-amw-2025-e367q0lu: No module named 'bs4'\n",
      "\n",
      "[+] Scraping: https://apnews.com/article/congo-rwanda-peace-agreement-trump-us-minerals-f74d15074cbadf35bedf37316bc722a6\n",
      "[-] Failed to scrape https://apnews.com/article/congo-rwanda-peace-agreement-trump-us-minerals-f74d15074cbadf35bedf37316bc722a6: No module named 'bs4'\n",
      "\n",
      "[+] Scraping: https://www.semafor.com/article/07/02/2025/first-trump-africa-summit-to-be-held-next-week\n",
      "[-] Failed to scrape https://www.semafor.com/article/07/02/2025/first-trump-africa-summit-to-be-held-next-week: No module named 'bs4'\n"
     ]
    }
   ],
   "source": [
    "#COMPILE AND RUN\n",
    "result=supervisor.invoke({\n",
    "    \"messages\": [\n",
    "        {\n",
    "            \"role\":\"user\",\n",
    "            \"content\":\"search for me about Ruto latest visit\"\n",
    "        }\n",
    "    ]\n",
    "})\n"
   ]
  }
 ],
 "metadata": {
  "kernelspec": {
   "display_name": "venv",
   "language": "python",
   "name": "python3"
  },
  "language_info": {
   "codemirror_mode": {
    "name": "ipython",
    "version": 3
   },
   "file_extension": ".py",
   "mimetype": "text/x-python",
   "name": "python",
   "nbconvert_exporter": "python",
   "pygments_lexer": "ipython3",
   "version": "3.11.2"
  }
 },
 "nbformat": 4,
 "nbformat_minor": 5
}
