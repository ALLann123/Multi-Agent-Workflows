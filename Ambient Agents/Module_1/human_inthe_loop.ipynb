{
 "cells": [
  {
   "cell_type": "markdown",
   "id": "16f28716",
   "metadata": {},
   "source": [
    "**Interrupts**\n",
    "\n",
    "In langgrah, we can use **interrupts** to stop graph execution at specific points.\n",
    "\n",
    "We use this to collect input from a user and continue execution with collected input.\n"
   ]
  },
  {
   "cell_type": "code",
   "execution_count": 1,
   "id": "e25c5425",
   "metadata": {},
   "outputs": [],
   "source": [
    "import os\n",
    "from dotenv import load_dotenv\n",
    "from langchain_openai import ChatOpenAI\n",
    "\n",
    "#load environment variables\n",
    "load_dotenv()\n",
    "\n",
    "\n",
    "api_key=os.getenv(\"GITHUB_TOKEN\")\n",
    "\n",
    "llm=ChatOpenAI(\n",
    "    model=\"gpt-4o\",\n",
    "    openai_api_key=api_key,\n",
    "    base_url=\"https://models.inference.ai.azure.com\"\n",
    ")\n",
    "\n"
   ]
  },
  {
   "cell_type": "code",
   "execution_count": 2,
   "id": "e4832246",
   "metadata": {},
   "outputs": [],
   "source": [
    "from typing_extensions import TypedDict\n",
    "from langgraph.graph import StateGraph, START, END\n",
    "\n",
    "from langgraph.types import Command, interrupt\n",
    "from langgraph.checkpoint.memory import InMemorySaver \n",
    "\n",
    "\n",
    "class State(TypedDict):\n",
    "    input: str\n",
    "    user_feedback: str\n",
    "\n",
    "def step_1(state):\n",
    "    print(\"---Step 1---\")\n",
    "    pass\n",
    "\n",
    "\n",
    "def human_feedback(state):\n",
    "    print(\"---human_feedback---\")\n",
    "    feedback=interrupt(\"Please provide feedback: \")\n",
    "    return {\"user_feedback\": feedback}\n",
    "\n",
    "def step_3(state):\n",
    "    print(\"---Step 3---\")\n",
    "    pass\n",
    "\n",
    "builder=StateGraph(State)\n",
    "builder.add_node(\"step_1\", step_1)\n",
    "builder.add_node(\"human_feedback\", human_feedback)\n",
    "builder.add_node(\"step_3\", step_3)\n",
    "builder.add_edge(START, \"step_1\")\n",
    "builder.add_edge(\"step_1\", \"human_feedback\")\n",
    "builder.add_edge(\"human_feedback\", \"step_3\")\n",
    "builder.add_edge(\"step_3\", END)\n",
    "\n",
    "#set up memory\n",
    "memory=InMemorySaver()\n",
    "\n",
    "#Add\n",
    "graph=builder.compile(checkpointer=memory)\n",
    "\n",
    "\n"
   ]
  },
  {
   "cell_type": "code",
   "execution_count": 5,
   "id": "248c4fb7",
   "metadata": {},
   "outputs": [
    {
     "data": {
      "image/png": "[encoded data removed]",
      "text/plain": [
       "<IPython.core.display.Image object>"
      ]
     },
     "metadata": {},
     "output_type": "display_data"
    }
   ],
   "source": [
    "from IPython.display import display, Image\n",
    "display(Image(graph.get_graph().draw_mermaid_png()))"
   ]
  },
  {
   "cell_type": "code",
   "execution_count": 7,
   "id": "ff127264",
   "metadata": {},
   "outputs": [
    {
     "name": "stdout",
     "output_type": "stream",
     "text": [
      "---Step 1---\n",
      "{'step_1': None}\n",
      "\n",
      "\n",
      "---human_feedback---\n",
      "{'__interrupt__': (Interrupt(value='Please provide feedback: ', resumable=True, ns=['human_feedback:735e7fea-b0b8-6413-0c5e-edb98502c4e3']),)}\n",
      "\n",
      "\n"
     ]
    }
   ],
   "source": [
    "#input\n",
    "initial_input={\"input\":\"hello world\"}\n",
    "\n",
    "#thread\n",
    "thread={\"configurable\":{\"thread_id\":\"1\"}}\n",
    "\n",
    "#run the graph until the first interruption\n",
    "for event in graph.stream(initial_input, thread, stream_mode=\"updates\"):\n",
    "    print(event)\n",
    "    print(\"\\n\")\n"
   ]
  },
  {
   "cell_type": "markdown",
   "id": "7e385f3e",
   "metadata": {},
   "source": [
    "We get an interruption in our application.\n",
    "\n",
    "Now let us use the **Command** object to resume the graph from the interrupted state, passing **resume**"
   ]
  },
  {
   "cell_type": "code",
   "execution_count": 8,
   "id": "b120f1f9",
   "metadata": {},
   "outputs": [
    {
     "name": "stdout",
     "output_type": "stream",
     "text": [
      "---human_feedback---\n",
      "{'__interrupt__': (Interrupt(value='Please provide feedback: ', resumable=True, ns=['human_feedback:735e7fea-b0b8-6413-0c5e-edb98502c4e3']),)}\n",
      "\n",
      "\n",
      "---Step 3---\n",
      "{'__interrupt__': (Interrupt(value='Please provide feedback: ', resumable=True, ns=['human_feedback:735e7fea-b0b8-6413-0c5e-edb98502c4e3']),)}\n",
      "\n",
      "\n"
     ]
    }
   ],
   "source": [
    "#continue the graph execution\n",
    "for even in graph.stream(\n",
    "    Command(resume=\"got to step 3!\"),\n",
    "    thread,\n",
    "    stream_mode=\"updates\",\n",
    "):\n",
    "    print(event)\n",
    "    print(\"\\n\")"
   ]
  }
 ],
 "metadata": {
  "kernelspec": {
   "display_name": "venv",
   "language": "python",
   "name": "python3"
  },
  "language_info": {
   "codemirror_mode": {
    "name": "ipython",
    "version": 3
   },
   "file_extension": ".py",
   "mimetype": "text/x-python",
   "name": "python",
   "nbconvert_exporter": "python",
   "pygments_lexer": "ipython3",
   "version": "3.11.2"
  }
 },
 "nbformat": 4,
 "nbformat_minor": 5
}
