{
 "cells": [
  {
   "cell_type": "markdown",
   "id": "5bb7cc17",
   "metadata": {},
   "source": [
    "**LANGGRAPH 101**\n",
    "\n",
    "Langgraph is a framework for building agents\n",
    "Has three components:\n",
    "1. Langchain- LLm Intergration\n",
    "2. LangSmith- Observability(Tracing and Evaluation)\n",
    "3. LangGraph- Application workflow\n"
   ]
  },
  {
   "cell_type": "markdown",
   "id": "05b5ca9e",
   "metadata": {},
   "source": [
    "**Chat Models**\n",
    "Chat models are the foundation of LLM application. Include GPT, Llama, Gemini, Deepseek.\n"
   ]
  },
  {
   "cell_type": "code",
   "execution_count": null,
   "id": "48a88734",
   "metadata": {},
   "outputs": [],
   "source": [
    "import os\n",
    "from dotenv import load_dotenv\n",
    "from langchain_openai import ChatOpenAI\n",
    "\n",
    "#load environment variables\n",
    "load_dotenv()\n",
    "\n",
    "\n",
    "api_key=os.getenv(\"GITHUB_TOKEN\")\n",
    "\n",
    "llm=ChatOpenAI(\n",
    "    model=\"gpt-4o\",\n",
    "    openai_api_key=api_key,\n",
    "    base_url=\"https://models.inference.ai.azure.com\"\n",
    ")\n",
    "\n"
   ]
  },
  {
   "cell_type": "markdown",
   "id": "c7f33a96",
   "metadata": {},
   "source": [
    "**Running the Model**\n",
    "\n",
    "Methods for using the chat models\n",
    "1. invoke(): A single input is transformed into an output.\n",
    "2. stream(): Outputs are streamed as they are produced.\n"
   ]
  },
  {
   "cell_type": "code",
   "execution_count": 3,
   "id": "31dc50f4",
   "metadata": {},
   "outputs": [],
   "source": [
    "result=llm.invoke(\"What is an agent?\")\n"
   ]
  },
  {
   "cell_type": "code",
   "execution_count": 4,
   "id": "fb3d92a9",
   "metadata": {},
   "outputs": [
    {
     "data": {
      "text/plain": [
       "langchain_core.messages.ai.AIMessage"
      ]
     },
     "execution_count": 4,
     "metadata": {},
     "output_type": "execute_result"
    }
   ],
   "source": [
    "type(result)"
   ]
  },
  {
   "cell_type": "code",
   "execution_count": 5,
   "id": "a253f880",
   "metadata": {},
   "outputs": [
    {
     "data": {
      "text/html": [
       "<pre style=\"white-space:pre;overflow-x:auto;line-height:normal;font-family:Menlo,'DejaVu Sans Mono',consolas,'Courier New',monospace\">An \"agent\" is a versatile term that can be interpreted in various contexts, depending on the subject matter. Below \n",
       "are some common definitions across different fields:                                                               \n",
       "\n",
       "                                              <span style=\"font-weight: bold\">1. General Definition:</span>                                               \n",
       "\n",
       "An agent is an entity that acts on behalf of someone or something, often performing specific tasks or achieving    \n",
       "particular goals.                                                                                                  \n",
       "\n",
       "<span style=\"color: #808000; text-decoration-color: #808000\">───────────────────────────────────────────────────────────────────────────────────────────────────────────────────</span>\n",
       "                             <span style=\"font-weight: bold\">2. In Artificial Intelligence (AI) and Computer Science:</span>                              \n",
       "\n",
       "An agent is a system or software that perceives its environment through sensors, acts on that environment through  \n",
       "actuators, and aims to perform actions to meet specific objectives. Examples include:                              \n",
       "\n",
       "<span style=\"color: #808000; text-decoration-color: #808000; font-weight: bold\"> • </span><span style=\"font-weight: bold\">Autonomous Agents</span>: Systems like self-driving cars or AI chatbots.                                               \n",
       "<span style=\"color: #808000; text-decoration-color: #808000; font-weight: bold\"> • </span><span style=\"font-weight: bold\">Intelligent Agents</span>: AI systems designed to learn, adapt, and make decisions.                                    \n",
       "<span style=\"color: #808000; text-decoration-color: #808000; font-weight: bold\"> • </span><span style=\"font-weight: bold\">Software Agents</span>: Programs that perform automated tasks, such as web crawlers or recommendation systems.         \n",
       "\n",
       "<span style=\"color: #808000; text-decoration-color: #808000\">───────────────────────────────────────────────────────────────────────────────────────────────────────────────────</span>\n",
       "                                      <span style=\"font-weight: bold\">3. In Philosophy and Cognitive Science:</span>                                      \n",
       "\n",
       "An agent refers to an entity with the capacity to act, make decisions, and exert influence, often with             \n",
       "intentionality and autonomy.                                                                                       \n",
       "\n",
       "<span style=\"color: #808000; text-decoration-color: #808000\">───────────────────────────────────────────────────────────────────────────────────────────────────────────────────</span>\n",
       "                                     <span style=\"font-weight: bold\">4. In Business, Law, and Representation:</span>                                      \n",
       "\n",
       "An agent is someone authorized to represent another person or organization in dealings with third parties.         \n",
       "Examples:                                                                                                          \n",
       "\n",
       "<span style=\"color: #808000; text-decoration-color: #808000; font-weight: bold\"> • </span><span style=\"font-weight: bold\">Talent Agent</span>: Represents actors, writers, or athletes to negotiate contracts.                                   \n",
       "<span style=\"color: #808000; text-decoration-color: #808000; font-weight: bold\"> • </span><span style=\"font-weight: bold\">Insurance Agent</span>: Sells insurance policies on behalf of an insurance company.                                    \n",
       "<span style=\"color: #808000; text-decoration-color: #808000; font-weight: bold\"> • </span><span style=\"font-weight: bold\">Real Estate Agent</span>: Facilitates the buying, selling, or leasing of properties.                                   \n",
       "\n",
       "<span style=\"color: #808000; text-decoration-color: #808000\">───────────────────────────────────────────────────────────────────────────────────────────────────────────────────</span>\n",
       "                                         <span style=\"font-weight: bold\">5. In Chemistry and Biosciences:</span>                                          \n",
       "\n",
       "An agent is a substance that produces a reaction or has a specific function. Examples include:                     \n",
       "\n",
       "<span style=\"color: #808000; text-decoration-color: #808000; font-weight: bold\"> • </span><span style=\"font-weight: bold\">Catalyst Agent</span>: Speeds up a chemical reaction.                                                                  \n",
       "<span style=\"color: #808000; text-decoration-color: #808000; font-weight: bold\"> • </span><span style=\"font-weight: bold\">Therapeutic Agent</span>: A drug or compound used in medicine to treat conditions.                                     \n",
       "<span style=\"color: #808000; text-decoration-color: #808000; font-weight: bold\"> • </span><span style=\"font-weight: bold\">Cleaning Agent</span>: A chemical used for cleaning purposes.                                                          \n",
       "\n",
       "<span style=\"color: #808000; text-decoration-color: #808000\">───────────────────────────────────────────────────────────────────────────────────────────────────────────────────</span>\n",
       "                                           <span style=\"font-weight: bold\">6. In Security and Espionage:</span>                                           \n",
       "\n",
       "An agent refers to an individual who collects intelligence or carries out missions, often covertly. Examples       \n",
       "include:                                                                                                           \n",
       "\n",
       "<span style=\"color: #808000; text-decoration-color: #808000; font-weight: bold\"> • </span><span style=\"font-weight: bold\">Secret Agent</span>: Works for a spy agency (e.g., James Bond in fiction).                                             \n",
       "<span style=\"color: #808000; text-decoration-color: #808000; font-weight: bold\"> • </span><span style=\"font-weight: bold\">Double Agent</span>: Acts as an agent for two opposing sides.                                                          \n",
       "\n",
       "<span style=\"color: #808000; text-decoration-color: #808000\">───────────────────────────────────────────────────────────────────────────────────────────────────────────────────</span>\n",
       "                                           <span style=\"font-weight: bold\">7. In Video Games and Gaming:</span>                                           \n",
       "\n",
       "An agent is often a player-controlled character, non-player character (NPC), or unit that performs actions within  \n",
       "the game's world.                                                                                                  \n",
       "\n",
       "<span style=\"color: #808000; text-decoration-color: #808000\">───────────────────────────────────────────────────────────────────────────────────────────────────────────────────</span>\n",
       "In summary, an \"agent\" is fundamentally an entity capable of acting or exerting influence, whether it's a person,  \n",
       "software, organism, or substance. The specific meaning depends on the context in which the term is used.           \n",
       "</pre>\n"
      ],
      "text/plain": [
       "An \"agent\" is a versatile term that can be interpreted in various contexts, depending on the subject matter. Below \n",
       "are some common definitions across different fields:                                                               \n",
       "\n",
       "                                              \u001b[1m1. \u001b[0m\u001b[1mGeneral Definition\u001b[0m\u001b[1m:\u001b[0m                                               \n",
       "\n",
       "An agent is an entity that acts on behalf of someone or something, often performing specific tasks or achieving    \n",
       "particular goals.                                                                                                  \n",
       "\n",
       "\u001b[33m───────────────────────────────────────────────────────────────────────────────────────────────────────────────────\u001b[0m\n",
       "                             \u001b[1m2. \u001b[0m\u001b[1mIn Artificial Intelligence (AI) and Computer Science\u001b[0m\u001b[1m:\u001b[0m                              \n",
       "\n",
       "An agent is a system or software that perceives its environment through sensors, acts on that environment through  \n",
       "actuators, and aims to perform actions to meet specific objectives. Examples include:                              \n",
       "\n",
       "\u001b[1;33m • \u001b[0m\u001b[1mAutonomous Agents\u001b[0m: Systems like self-driving cars or AI chatbots.                                               \n",
       "\u001b[1;33m • \u001b[0m\u001b[1mIntelligent Agents\u001b[0m: AI systems designed to learn, adapt, and make decisions.                                    \n",
       "\u001b[1;33m • \u001b[0m\u001b[1mSoftware Agents\u001b[0m: Programs that perform automated tasks, such as web crawlers or recommendation systems.         \n",
       "\n",
       "\u001b[33m───────────────────────────────────────────────────────────────────────────────────────────────────────────────────\u001b[0m\n",
       "                                      \u001b[1m3. \u001b[0m\u001b[1mIn Philosophy and Cognitive Science\u001b[0m\u001b[1m:\u001b[0m                                      \n",
       "\n",
       "An agent refers to an entity with the capacity to act, make decisions, and exert influence, often with             \n",
       "intentionality and autonomy.                                                                                       \n",
       "\n",
       "\u001b[33m───────────────────────────────────────────────────────────────────────────────────────────────────────────────────\u001b[0m\n",
       "                                     \u001b[1m4. \u001b[0m\u001b[1mIn Business, Law, and Representation\u001b[0m\u001b[1m:\u001b[0m                                      \n",
       "\n",
       "An agent is someone authorized to represent another person or organization in dealings with third parties.         \n",
       "Examples:                                                                                                          \n",
       "\n",
       "\u001b[1;33m • \u001b[0m\u001b[1mTalent Agent\u001b[0m: Represents actors, writers, or athletes to negotiate contracts.                                   \n",
       "\u001b[1;33m • \u001b[0m\u001b[1mInsurance Agent\u001b[0m: Sells insurance policies on behalf of an insurance company.                                    \n",
       "\u001b[1;33m • \u001b[0m\u001b[1mReal Estate Agent\u001b[0m: Facilitates the buying, selling, or leasing of properties.                                   \n",
       "\n",
       "\u001b[33m───────────────────────────────────────────────────────────────────────────────────────────────────────────────────\u001b[0m\n",
       "                                         \u001b[1m5. \u001b[0m\u001b[1mIn Chemistry and Biosciences\u001b[0m\u001b[1m:\u001b[0m                                          \n",
       "\n",
       "An agent is a substance that produces a reaction or has a specific function. Examples include:                     \n",
       "\n",
       "\u001b[1;33m • \u001b[0m\u001b[1mCatalyst Agent\u001b[0m: Speeds up a chemical reaction.                                                                  \n",
       "\u001b[1;33m • \u001b[0m\u001b[1mTherapeutic Agent\u001b[0m: A drug or compound used in medicine to treat conditions.                                     \n",
       "\u001b[1;33m • \u001b[0m\u001b[1mCleaning Agent\u001b[0m: A chemical used for cleaning purposes.                                                          \n",
       "\n",
       "\u001b[33m───────────────────────────────────────────────────────────────────────────────────────────────────────────────────\u001b[0m\n",
       "                                           \u001b[1m6. \u001b[0m\u001b[1mIn Security and Espionage\u001b[0m\u001b[1m:\u001b[0m                                           \n",
       "\n",
       "An agent refers to an individual who collects intelligence or carries out missions, often covertly. Examples       \n",
       "include:                                                                                                           \n",
       "\n",
       "\u001b[1;33m • \u001b[0m\u001b[1mSecret Agent\u001b[0m: Works for a spy agency (e.g., James Bond in fiction).                                             \n",
       "\u001b[1;33m • \u001b[0m\u001b[1mDouble Agent\u001b[0m: Acts as an agent for two opposing sides.                                                          \n",
       "\n",
       "\u001b[33m───────────────────────────────────────────────────────────────────────────────────────────────────────────────────\u001b[0m\n",
       "                                           \u001b[1m7. \u001b[0m\u001b[1mIn Video Games and Gaming\u001b[0m\u001b[1m:\u001b[0m                                           \n",
       "\n",
       "An agent is often a player-controlled character, non-player character (NPC), or unit that performs actions within  \n",
       "the game's world.                                                                                                  \n",
       "\n",
       "\u001b[33m───────────────────────────────────────────────────────────────────────────────────────────────────────────────────\u001b[0m\n",
       "In summary, an \"agent\" is fundamentally an entity capable of acting or exerting influence, whether it's a person,  \n",
       "software, organism, or substance. The specific meaning depends on the context in which the term is used.           \n"
      ]
     },
     "execution_count": 5,
     "metadata": {},
     "output_type": "execute_result"
    }
   ],
   "source": [
    "from rich.markdown import Markdown\n",
    "Markdown(result.content)"
   ]
  },
  {
   "cell_type": "markdown",
   "id": "3de29973",
   "metadata": {},
   "source": [
    "**Tools**\n",
    "\n",
    "Tools are utilities that can be called by a chat model.\n",
    "We use @tool decorator to create a tool, which transforms python functions into a callable tools.\n"
   ]
  },
  {
   "cell_type": "code",
   "execution_count": 6,
   "id": "d5e773df",
   "metadata": {},
   "outputs": [],
   "source": [
    "from langchain.tools import tool\n",
    "\n",
    "@tool\n",
    "def write_email(to: str, subject:str, content:str)->str:\n",
    "    \"\"\"Write and send an email\"\"\"\n",
    "    #placeholder response in real app would send email\n",
    "    return f\"Email Sent to {to} with subject '{subject}' and content: {content}\""
   ]
  },
  {
   "cell_type": "code",
   "execution_count": 7,
   "id": "7603aa1f",
   "metadata": {},
   "outputs": [
    {
     "data": {
      "text/plain": [
       "langchain_core.tools.structured.StructuredTool"
      ]
     },
     "execution_count": 7,
     "metadata": {},
     "output_type": "execute_result"
    }
   ],
   "source": [
    "type(write_email)"
   ]
  },
  {
   "cell_type": "code",
   "execution_count": 8,
   "id": "1217d4bc",
   "metadata": {},
   "outputs": [
    {
     "data": {
      "text/plain": [
       "{'to': {'title': 'To', 'type': 'string'},\n",
       " 'subject': {'title': 'Subject', 'type': 'string'},\n",
       " 'content': {'title': 'Content', 'type': 'string'}}"
      ]
     },
     "execution_count": 8,
     "metadata": {},
     "output_type": "execute_result"
    }
   ],
   "source": [
    "#check the argument the tool requires\n",
    "write_email.args"
   ]
  },
  {
   "cell_type": "code",
   "execution_count": null,
   "id": "416708bc",
   "metadata": {},
   "outputs": [
    {
     "data": {
      "text/html": [
       "<pre style=\"white-space:pre;overflow-x:auto;line-height:normal;font-family:Menlo,'DejaVu Sans Mono',consolas,'Courier New',monospace\">Write and send an email                                                                                            \n",
       "</pre>\n"
      ],
      "text/plain": [
       "Write and send an email                                                                                            \n"
      ]
     },
     "execution_count": 9,
     "metadata": {},
     "output_type": "execute_result"
    }
   ],
   "source": [
    "#view the tool description\n",
    "Markdown(write_email.description)"
   ]
  },
  {
   "cell_type": "markdown",
   "id": "603c467d",
   "metadata": {},
   "source": [
    "**Tool Calling**\n",
    "\n",
    "Tools can be called by LLMs. When a tool is binded to a model it can choose to call the tool by returning a structured output with tool arguments.\n",
    " \n",
    "**bind_tools** allows us to give an llm access to tools\n",
    "\n",
    "**\"Any\"** will select at least one of the tools\n",
    "\n",
    "In addition we can set **parallel_tool_calls=False** to ensure the model will only call one tool at a time.\n"
   ]
  },
  {
   "cell_type": "code",
   "execution_count": 10,
   "id": "fdfc5ee2",
   "metadata": {},
   "outputs": [],
   "source": [
    "#connect tools to a chat model\n",
    "model_with_tools=llm.bind_tools([write_email], tool_choice=\"any\", parallel_tool_calls=False)\n",
    "\n",
    "\n",
    "#The model will now be able to call tools\n",
    "output=model_with_tools.invoke(\"Draft a response to my boss ('boss@company.ai') about tomorrow's meeting\")"
   ]
  },
  {
   "cell_type": "code",
   "execution_count": 11,
   "id": "aa7736e5",
   "metadata": {},
   "outputs": [
    {
     "data": {
      "text/plain": [
       "langchain_core.messages.ai.AIMessage"
      ]
     },
     "execution_count": 11,
     "metadata": {},
     "output_type": "execute_result"
    }
   ],
   "source": [
    "type(output)"
   ]
  },
  {
   "cell_type": "code",
   "execution_count": 12,
   "id": "241a0253",
   "metadata": {},
   "outputs": [
    {
     "data": {
      "text/plain": [
       "AIMessage(content='', additional_kwargs={'tool_calls': [{'id': 'call_aAepvT4ZPe5pXYUDR5dfyvZC', 'function': {'arguments': '{\"to\":\"boss@company.ai\",\"subject\":\"Re: Tomorrow\\'s Meeting\",\"content\":\"Dear [Boss\\'s Name],\\\\n\\\\nThank you for the update regarding tomorrow\\'s meeting. Could you please confirm the exact time and location, as well as any specific topics or materials I should prepare in advance?\\\\n\\\\nLooking forward to the discussion.\\\\n\\\\nBest regards,\\\\n[Your Name]\"}', 'name': 'write_email'}, 'type': 'function'}], 'refusal': None}, response_metadata={'token_usage': {'completion_tokens': 90, 'prompt_tokens': 67, 'total_tokens': 157, 'completion_tokens_details': {'accepted_prediction_tokens': 0, 'audio_tokens': 0, 'reasoning_tokens': 0, 'rejected_prediction_tokens': 0}, 'prompt_tokens_details': {'audio_tokens': 0, 'cached_tokens': 0}}, 'model_name': 'gpt-4o-2024-11-20', 'system_fingerprint': 'fp_ee1d74bde0', 'id': 'chatcmpl-Bqlkb3y5wVa0u7N9135Wf1xtjoSSP', 'service_tier': None, 'finish_reason': 'tool_calls', 'logprobs': None}, id='run--49226adc-9937-48e7-9ede-4ee4131bb1a5-0', tool_calls=[{'name': 'write_email', 'args': {'to': 'boss@company.ai', 'subject': \"Re: Tomorrow's Meeting\", 'content': \"Dear [Boss's Name],\\n\\nThank you for the update regarding tomorrow's meeting. Could you please confirm the exact time and location, as well as any specific topics or materials I should prepare in advance?\\n\\nLooking forward to the discussion.\\n\\nBest regards,\\n[Your Name]\"}, 'id': 'call_aAepvT4ZPe5pXYUDR5dfyvZC', 'type': 'tool_call'}], usage_metadata={'input_tokens': 67, 'output_tokens': 90, 'total_tokens': 157, 'input_token_details': {'audio': 0, 'cache_read': 0}, 'output_token_details': {'audio': 0, 'reasoning': 0}})"
      ]
     },
     "execution_count": 12,
     "metadata": {},
     "output_type": "execute_result"
    }
   ],
   "source": [
    "output"
   ]
  },
  {
   "cell_type": "code",
   "execution_count": 14,
   "id": "0fb295d5",
   "metadata": {},
   "outputs": [
    {
     "data": {
      "text/plain": [
       "{'to': 'boss@company.ai',\n",
       " 'subject': \"Re: Tomorrow's Meeting\",\n",
       " 'content': \"Dear [Boss's Name],\\n\\nThank you for the update regarding tomorrow's meeting. Could you please confirm the exact time and location, as well as any specific topics or materials I should prepare in advance?\\n\\nLooking forward to the discussion.\\n\\nBest regards,\\n[Your Name]\"}"
      ]
     },
     "execution_count": 14,
     "metadata": {},
     "output_type": "execute_result"
    }
   ],
   "source": [
    "#extract tool calls and execute them\n",
    "args=output.tool_calls[0]['args']\n",
    "args"
   ]
  },
  {
   "cell_type": "code",
   "execution_count": 15,
   "id": "b4de48f7",
   "metadata": {},
   "outputs": [
    {
     "data": {
      "text/html": [
       "<pre style=\"white-space:pre;overflow-x:auto;line-height:normal;font-family:Menlo,'DejaVu Sans Mono',consolas,'Courier New',monospace\">Email Sent to boss@company.ai with subject 'Re: Tomorrow's Meeting' and content: Dear [Boss's Name],               \n",
       "\n",
       "Thank you for the update regarding tomorrow's meeting. Could you please confirm the exact time and location, as    \n",
       "well as any specific topics or materials I should prepare in advance?                                              \n",
       "\n",
       "Looking forward to the discussion.                                                                                 \n",
       "\n",
       "Best regards, [Your Name]                                                                                          \n",
       "</pre>\n"
      ],
      "text/plain": [
       "Email Sent to boss@company.ai with subject 'Re: Tomorrow's Meeting' and content: Dear [Boss's Name],               \n",
       "\n",
       "Thank you for the update regarding tomorrow's meeting. Could you please confirm the exact time and location, as    \n",
       "well as any specific topics or materials I should prepare in advance?                                              \n",
       "\n",
       "Looking forward to the discussion.                                                                                 \n",
       "\n",
       "Best regards, [Your Name]                                                                                          \n"
      ]
     },
     "execution_count": 15,
     "metadata": {},
     "output_type": "execute_result"
    }
   ],
   "source": [
    "#call the tool\n",
    "result=write_email.invoke(args)\n",
    "Markdown(result)"
   ]
  },
  {
   "cell_type": "markdown",
   "id": "c51cdbbd",
   "metadata": {},
   "source": [
    "**Workflows**\n",
    "\n",
    "There are many patterns for building applications with LLMs.\n",
    "\n",
    "We can embed LLM calls into pre-defined workflows, giving the system more agency to make decisions.\n",
    "\n",
    "E.G Add a router step to deteremine whether to write an email or not.\n"
   ]
  },
  {
   "cell_type": "markdown",
   "id": "75c050bc",
   "metadata": {},
   "source": [
    "**Agents**\n",
    "\n",
    "They further increase agency allowing the LLM to dynamically direct its own tool usage.\n",
    "\n",
    "Output of each tool called is used to inform the next action.\n",
    "\n"
   ]
  }
 ],
 "metadata": {
  "kernelspec": {
   "display_name": "venv",
   "language": "python",
   "name": "python3"
  },
  "language_info": {
   "codemirror_mode": {
    "name": "ipython",
    "version": 3
   },
   "file_extension": ".py",
   "mimetype": "text/x-python",
   "name": "python",
   "nbconvert_exporter": "python",
   "pygments_lexer": "ipython3",
   "version": "3.11.2"
  }
 },
 "nbformat": 4,
 "nbformat_minor": 5
}
