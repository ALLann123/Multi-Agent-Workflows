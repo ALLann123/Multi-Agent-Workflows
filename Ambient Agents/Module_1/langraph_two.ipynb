{
 "cells": [
  {
   "cell_type": "markdown",
   "id": "1ca70504",
   "metadata": {},
   "source": [
    "**What is langGraph**\n",
    "\n",
    "Langgraph provides low-level supporting infrastructure that sits underneath any agent or workflow.\n",
    "\n",
    "**Benefits**\n",
    "\n",
    "-Control: Make it easy to define and /combine agents and workflows.\n",
    "\n",
    "-Persistence: Provide a way to persist the state of a graph, this enbles both memory and human-in-the-loop.\n",
    "\n",
    "-Testing, debugging and deployment: easy application of the three"
   ]
  },
  {
   "cell_type": "code",
   "execution_count": 3,
   "id": "1f844553",
   "metadata": {},
   "outputs": [],
   "source": [
    "import os\n",
    "from dotenv import load_dotenv\n",
    "from langchain_openai import ChatOpenAI\n",
    "\n",
    "#load environment variables\n",
    "load_dotenv()\n",
    "\n",
    "\n",
    "api_key=os.getenv(\"GITHUB_TOKEN\")\n",
    "\n",
    "llm=ChatOpenAI(\n",
    "    model=\"gpt-4o\",\n",
    "    openai_api_key=api_key,\n",
    "    base_url=\"https://models.inference.ai.azure.com\"\n",
    ")\n",
    "\n"
   ]
  },
  {
   "cell_type": "code",
   "execution_count": 4,
   "id": "f3e72adc",
   "metadata": {},
   "outputs": [],
   "source": [
    "from langchain.tools import tool\n",
    "\n",
    "@tool\n",
    "def write_email(to: str, subject:str, content:str)->str:\n",
    "    \"\"\"Write and send an email\"\"\"\n",
    "    #placeholder response in real app would send email\n",
    "    return f\"Email Sent to {to} with subject '{subject}' and content: {content}\""
   ]
  },
  {
   "cell_type": "code",
   "execution_count": 5,
   "id": "4dc9ba5c",
   "metadata": {},
   "outputs": [],
   "source": [
    "#connect tools to a chat model\n",
    "model_with_tools=llm.bind_tools([write_email], tool_choice=\"any\", parallel_tool_calls=False)\n",
    "\n",
    "\n",
    "#The model will now be able to call tools\n",
    "output=model_with_tools.invoke(\"Draft a response to my boss ('boss@company.ai') about tomorrow's meeting\")"
   ]
  },
  {
   "cell_type": "markdown",
   "id": "a7c730e4",
   "metadata": {},
   "source": [
    "a. Control\n",
    "\n",
    "Langgraph lets us to define our application as a graph with\n",
    "\n",
    "1. State: What information do we need to track over the course of the application?\n",
    "\n",
    "2. Nodes: How do we want to update this information over the course of the application?\n",
    "\n",
    "3. Edges: How do we want to connect this nodes together?\n",
    "\n",
    "State: defines the schema for information we want to track over the course of the application.\n",
    "\n",
    "Can be:\n",
    "\n",
    "-TypeDict is fastest but doesnt support defaults.\n",
    "\n",
    "-Dataclass is basically as fast, supports dot syntac state.foo and has defaults.\n",
    "\n",
    "-Pydantic is slower(especially with custom validators)but gives type validation.\n",
    "\n"
   ]
  },
  {
   "cell_type": "code",
   "execution_count": 2,
   "id": "dfcf4bb4",
   "metadata": {},
   "outputs": [],
   "source": [
    "from typing import TypedDict\n",
    "from langgraph.graph import StateGraph, START, END\n",
    "\n",
    "class StateSchema(TypedDict):\n",
    "    request: str\n",
    "    email: str\n",
    "\n",
    "\n",
    "workflow=StateGraph(StateSchema)\n"
   ]
  },
  {
   "cell_type": "markdown",
   "id": "a7dd5356",
   "metadata": {},
   "source": [
    "Each node is simply a python function. This gives us full controll over the logic inside each node.\n",
    "\n",
    "They receive the current state, return a dictionary to update the state.\n",
    "\n",
    "**N/B**: By default state keys are overwritten."
   ]
  },
  {
   "cell_type": "code",
   "execution_count": 5,
   "id": "e7f10abf",
   "metadata": {},
   "outputs": [],
   "source": [
    "#write the node\n",
    "def write_email_node(state: StateSchema)-> StateSchema:\n",
    "    #process the request\n",
    "    output=model_with_tools.invoke(state[\"request\"])\n",
    "    args=output.tool_calls[0]['args']\n",
    "    email=write_email.invoke(args)\n",
    "    return {\"email\":email}"
   ]
  },
  {
   "cell_type": "markdown",
   "id": "6f30a401",
   "metadata": {},
   "source": [
    "**Edges**: Connect nodes together.\n",
    "\n",
    "We specify the control flow by adding edges and nodes to our state graph."
   ]
  },
  {
   "cell_type": "code",
   "execution_count": 6,
   "id": "98f00a62",
   "metadata": {},
   "outputs": [],
   "source": [
    "workflow=StateGraph(StateSchema)\n",
    "\n",
    "#add our node\n",
    "workflow.add_node(\"write_email_node\", write_email_node)\n",
    "\n",
    "#start our program\n",
    "workflow.add_edge(START, \"write_email_node\")\n",
    "\n",
    "#endd program\n",
    "workflow.add_edge(\"write_email_node\", END)\n",
    "\n",
    "app=workflow.compile()"
   ]
  },
  {
   "cell_type": "code",
   "execution_count": 7,
   "id": "138c7938",
   "metadata": {},
   "outputs": [
    {
     "data": {
      "text/plain": [
       "{'request': \"Draft a response to my boss (boss@company.ai) about tomorrow's meeting\",\n",
       " 'email': \"Email Sent to boss@company.ai with subject 'Response to Tomorrow's Meeting' and content: Dear [Boss's Name],\\n\\nThank you for the meeting reminder. I confirm my attendance for tomorrow. Please let me know if there’s any preparation or specific materials needed ahead of time.\\n\\nLooking forward to our discussion.\\n\\nBest regards,\\n[Your Name]\"}"
      ]
     },
     "execution_count": 7,
     "metadata": {},
     "output_type": "execute_result"
    }
   ],
   "source": [
    "app.invoke({\"request\": \"Draft a response to my boss (boss@company.ai) about tomorrow's meeting\"})"
   ]
  },
  {
   "cell_type": "markdown",
   "id": "c5ee41a8",
   "metadata": {},
   "source": [
    "Routing between nodes can be done conditionally using a simple Function.\n",
    "\n"
   ]
  },
  {
   "cell_type": "code",
   "execution_count": 9,
   "id": "060a58ca",
   "metadata": {},
   "outputs": [],
   "source": [
    "from typing import Literal\n",
    "from langgraph.graph import StateGraph, END, START, MessagesState\n",
    "\n",
    "# Assuming model_with_tools and write_email are defined elsewhere\n",
    "\n",
    "def call_llm(state: MessagesState) -> MessagesState:\n",
    "    \"\"\"Run LLM\"\"\"\n",
    "    output = model_with_tools.invoke(state[\"messages\"])\n",
    "    return {\"messages\": state[\"messages\"] + [output]}\n",
    "\n",
    "def run_tool(state: MessagesState) -> MessagesState:\n",
    "    \"\"\"Performs the tool call\"\"\"\n",
    "    last_message = state[\"messages\"][-1]\n",
    "    results = []\n",
    "\n",
    "    for tool_call in last_message.tool_calls:\n",
    "        observation = write_email.invoke(tool_call[\"args\"])\n",
    "        results.append({\n",
    "            \"role\": \"tool\",\n",
    "            \"content\": observation,\n",
    "            \"tool_call_id\": tool_call[\"id\"]\n",
    "        })\n",
    "\n",
    "    return {\"messages\": state[\"messages\"] + results}\n",
    "\n",
    "def should_continue(state: MessagesState) -> Literal[\"run_tool\", \"__end__\"]:\n",
    "    \"\"\"Route to tool handler, or end if no tool call\"\"\"\n",
    "    last_message = state[\"messages\"][-1]\n",
    "\n",
    "    if last_message.tool_calls:\n",
    "        return \"run_tool\"\n",
    "\n",
    "    return \"__end__\"\n",
    "\n",
    "# Define the workflow\n",
    "workflow = StateGraph(MessagesState)\n",
    "\n",
    "# Add nodes\n",
    "workflow.add_node(\"call_llm\", call_llm)\n",
    "workflow.add_node(\"run_tool\", run_tool)\n",
    "\n",
    "# Add edges\n",
    "workflow.set_entry_point(\"call_llm\")\n",
    "workflow.add_conditional_edges(\"call_llm\", should_continue, {\n",
    "    \"run_tool\": \"run_tool\",\n",
    "    \"__end__\": END\n",
    "})\n",
    "workflow.add_edge(\"run_tool\", END)\n",
    "\n",
    "# Compile the workflow\n",
    "app = workflow.compile()\n"
   ]
  },
  {
   "cell_type": "code",
   "execution_count": 10,
   "id": "0f07abcf",
   "metadata": {},
   "outputs": [
    {
     "data": {
      "image/png": "[encoded data removed]",
      "text/plain": [
       "<IPython.core.display.Image object>"
      ]
     },
     "metadata": {},
     "output_type": "display_data"
    }
   ],
   "source": [
    "from IPython.display import display, Image\n",
    "display(Image(app.get_graph().draw_mermaid_png()))"
   ]
  },
  {
   "cell_type": "code",
   "execution_count": 11,
   "id": "afa0d7ea",
   "metadata": {},
   "outputs": [
    {
     "name": "stdout",
     "output_type": "stream",
     "text": [
      "================================\u001b[1m Human Message \u001b[0m=================================\n",
      "\n",
      "Draft a response to my boss (boss@company.ai) confirming that I want to attend Interrupt!\n",
      "==================================\u001b[1m Ai Message \u001b[0m==================================\n",
      "Tool Calls:\n",
      "  write_email (call_V7PeJiud5W82u49dDQOAquq1)\n",
      " Call ID: call_V7PeJiud5W82u49dDQOAquq1\n",
      "  Args:\n",
      "    to: boss@company.ai\n",
      "    subject: Confirmation to Attend Interrupt\n",
      "    content: Dear [Boss's Name],\n",
      "\n",
      "Thank you for the opportunity to attend Interrupt! I’m writing to confirm my interest and availability to participate in the event. I’m really looking forward to the learnings and networking opportunities it will offer.\n",
      "\n",
      "Please let me know if there are any additional steps I need to take or preparations I should make ahead of the event.\n",
      "\n",
      "Thank you again for including me in this.\n",
      "\n",
      "Best regards,\n",
      "[Your Name]\n",
      "=================================\u001b[1m Tool Message \u001b[0m=================================\n",
      "\n",
      "Email Sent to boss@company.ai with subject 'Confirmation to Attend Interrupt' and content: Dear [Boss's Name],\n",
      "\n",
      "Thank you for the opportunity to attend Interrupt! I’m writing to confirm my interest and availability to participate in the event. I’m really looking forward to the learnings and networking opportunities it will offer.\n",
      "\n",
      "Please let me know if there are any additional steps I need to take or preparations I should make ahead of the event.\n",
      "\n",
      "Thank you again for including me in this.\n",
      "\n",
      "Best regards,\n",
      "[Your Name]\n"
     ]
    }
   ],
   "source": [
    "result = app.invoke({\"messages\": [{\"role\": \"user\", \"content\": \"Draft a response to my boss (boss@company.ai) confirming that I want to attend Interrupt!\"}]})\n",
    "for m in result[\"messages\"]:\n",
    "    m.pretty_print()"
   ]
  },
  {
   "cell_type": "markdown",
   "id": "97c395f9",
   "metadata": {},
   "source": [
    "Because Agents are such a common pattern, LangGraph has a prebuilt agent abstraction.\n",
    "\n",
    "**Langgraph Prebuilt**: pass in the LLM, tools and prompt"
   ]
  },
  {
   "cell_type": "code",
   "execution_count": 12,
   "id": "3cfcea43",
   "metadata": {},
   "outputs": [],
   "source": [
    "from langgraph.prebuilt import create_react_agent\n",
    "\n",
    "agent=create_react_agent(\n",
    "    model=llm,\n",
    "    tools=[write_email],\n",
    "    prompt=\"Respond to the user's request using the tools provided.\",\n",
    ")\n",
    "\n"
   ]
  },
  {
   "cell_type": "code",
   "execution_count": 14,
   "id": "e419a4a6",
   "metadata": {},
   "outputs": [
    {
     "data": {
      "image/png": "[encoded data removed]",
      "text/plain": [
       "<IPython.core.display.Image object>"
      ]
     },
     "metadata": {},
     "output_type": "display_data"
    }
   ],
   "source": [
    "display(Image(agent.get_graph().draw_mermaid_png()))"
   ]
  },
  {
   "cell_type": "code",
   "execution_count": 15,
   "id": "e0f1c36c",
   "metadata": {},
   "outputs": [
    {
     "name": "stdout",
     "output_type": "stream",
     "text": [
      "================================\u001b[1m Human Message \u001b[0m=================================\n",
      "\n",
      "Draft a response to my boss (boss@company.ai) confirming that I want to attend Interrupt!\n",
      "==================================\u001b[1m Ai Message \u001b[0m==================================\n",
      "Tool Calls:\n",
      "  write_email (call_nERq2SvuS7RE9VRXQDEtO0gE)\n",
      " Call ID: call_nERq2SvuS7RE9VRXQDEtO0gE\n",
      "  Args:\n",
      "    to: boss@company.ai\n",
      "    subject: Confirmation: Attendance at Interrupt\n",
      "    content: Dear [Boss's Name],\n",
      "\n",
      "Thank you for the opportunity to attend Interrupt! I am excited to confirm my attendance and look forward to gaining valuable insights and contributing to our team’s success through this event.\n",
      "\n",
      "Please let me know if there are any additional details or preparations required on my end.\n",
      "\n",
      "Best regards,\n",
      "[Your Name]\n",
      "=================================\u001b[1m Tool Message \u001b[0m=================================\n",
      "Name: write_email\n",
      "\n",
      "Email Sent to boss@company.ai with subject 'Confirmation: Attendance at Interrupt' and content: Dear [Boss's Name],\n",
      "\n",
      "Thank you for the opportunity to attend Interrupt! I am excited to confirm my attendance and look forward to gaining valuable insights and contributing to our team’s success through this event.\n",
      "\n",
      "Please let me know if there are any additional details or preparations required on my end.\n",
      "\n",
      "Best regards,\n",
      "[Your Name]\n",
      "==================================\u001b[1m Ai Message \u001b[0m==================================\n",
      "\n",
      "Your email has been sent to your boss confirming your attendance at Interrupt. Let me know if there's anything else you'd like to address!\n"
     ]
    }
   ],
   "source": [
    "#runt he agent\n",
    "result = agent.invoke(\n",
    "    {\"messages\": [{\"role\": \"user\", \"content\": \"Draft a response to my boss (boss@company.ai) confirming that I want to attend Interrupt!\"}]}\n",
    ")\n",
    "\n",
    "for m in result[\"messages\"]:\n",
    "    m.pretty_print()"
   ]
  },
  {
   "cell_type": "markdown",
   "id": "3d1a194c",
   "metadata": {},
   "source": [
    "**Persistence**\n",
    "\n",
    "**Threads**\n",
    "\n",
    "Its very useful to allow agents to pause during long tasks.\n",
    "\n",
    "Langgraph has a built in layers, implemented through checkpointers to enable this.\n",
    "\n",
    "When we compile the graph it saves a checkpoint of the graph state at every step.\n",
    "\n",
    "Checkpoints are saved to a thread, which can be accessed after graph execution completes.\n",
    "\n"
   ]
  },
  {
   "cell_type": "code",
   "execution_count": null,
   "id": "71b18bd2",
   "metadata": {},
   "outputs": [],
   "source": [
    "from langgraph.checkpoint.memory import InMemorySaver\n",
    "\n",
    "agent=create_react_agent(\n",
    "    model=llm,\n",
    "    tools=[write_email],\n",
    "    prompt=\"Respond to user's request using the tools provided.\",\n",
    "    checkpointer=InMemorySaver()\n",
    ")\n",
    "\n",
    "config={\"configurable\":{\"thread_id\":\"1\"}}\n",
    "result=agent.invoke({\"messages\":[{\"role\":\"user\", \"content\":\"What are four good practices for writing emails?\"}]}, config)\n"
   ]
  },
  {
   "cell_type": "code",
   "execution_count": 19,
   "id": "0d34df43",
   "metadata": {},
   "outputs": [
    {
     "name": "stdout",
     "output_type": "stream",
     "text": [
      "================================\u001b[1m Human Message \u001b[0m=================================\n",
      "\n",
      "What are four good practices for writing emails?\n",
      "==================================\u001b[1m Ai Message \u001b[0m==================================\n",
      "\n",
      "Here are four good practices for writing effective emails:\n",
      "\n",
      "1. **Use a Clear and Concise Subject Line**:\n",
      "   - Ensure the subject line reflects the content of the email. This helps the recipient understand the intent of the email at a glance and prioritize it accordingly.\n",
      "\n",
      "2. **Maintain a Professional Tone and Structure**:\n",
      "   - Start with a polite greeting.\n",
      "   - Use clear, simple language and break your content into short paragraphs.\n",
      "   - End with an appropriate closing and include your contact information (if needed).\n",
      "\n",
      "3. **Be Purposeful and Respectful of Time**:\n",
      "   - Get to the point quickly without unnecessary details. This shows respect for your recipient's time.\n",
      "   - Include only the information or questions necessary for the purpose of your email.\n",
      "\n",
      "4. **Proofread Before Sending**:\n",
      "   - Check for grammatical errors, typos, and clarity.\n",
      "   - Verify that attachments are properly included if mentioned, and confirm that you’re sending it to the right recipient(s). \n",
      "\n",
      "By following these practices, you can ensure that your emails are professional, effective, and well-received.\n"
     ]
    }
   ],
   "source": [
    "#get the latest state snapshot\n",
    "config={\"configurable\":{\"thread_id\":\"1\"}}\n",
    "state=agent.get_state(config)\n",
    "for message in state.values['messages']:\n",
    "    message.pretty_print()"
   ]
  },
  {
   "cell_type": "code",
   "execution_count": 6,
   "id": "8ca4b631",
   "metadata": {},
   "outputs": [
    {
     "name": "stdout",
     "output_type": "stream",
     "text": [
      "AI: How can I assist you today?\n",
      "AI: How can I assist you today?\n",
      "AI: It seems you haven't provided any input or request. How can I help you today?\n",
      "AI: How can I assist you today?\n",
      "AI: It seems you haven't provided any input or request. How can I help you today?\n",
      "AI: Hi there! How can I assist you today? 😊\n",
      "AI: How can I assist you today?\n",
      "AI: It seems you haven't provided any input or request. How can I help you today?\n",
      "AI: Hi there! How can I assist you today? 😊\n",
      "AI: It seems like you didn't include any message. Let me know how I can help you! 😊\n",
      "AI: How can I assist you today?\n",
      "AI: It seems you haven't provided any input or request. How can I help you today?\n",
      "AI: Hi there! How can I assist you today? 😊\n",
      "AI: It seems like you didn't include any message. Let me know how I can help you! 😊\n",
      "AI: Hi again! Let me know if there's anything I can do for you. 😊\n",
      "AI: How can I assist you today?\n",
      "AI: It seems you haven't provided any input or request. How can I help you today?\n",
      "AI: Hi there! How can I assist you today? 😊\n",
      "AI: It seems like you didn't include any message. Let me know how I can help you! 😊\n",
      "AI: Hi again! Let me know if there's anything I can do for you. 😊\n",
      "AI: Here are four good practices for writing effective and professional emails:\n",
      "\n",
      "1. **Clear Subject Line**: Choose a subject line that summarizes the purpose of your email. This helps the recipient quickly understand the topic and priority of your message. For example, \"Meeting Agenda for Sept. 15\" or \"Request for Feedback on Project Proposal.\"\n",
      "\n",
      "2. **Professional Yet Friendly Tone**: Use a tone appropriate for the context. For formal emails, maintain professionalism with polite language. If you're emailing colleagues or friends, you can adopt a friendlier tone, but still stay respectful.\n",
      "\n",
      "3. **Structure and Brevity**:\n",
      "   - Start with a polite greeting.\n",
      "   - Introduce the purpose of the email in the opening sentence.\n",
      "   - Use short, concise paragraphs to structure your content.\n",
      "   - End with a clear closing and any necessary call-to-action (e.g., \"Please respond by Friday.\").\n",
      "\n",
      "4. **Proofread Before Sending**: Double-check your email for typos, grammar mistakes, and clarity. Make sure any attachments or links are correctly included, and verify that the recipient's email address is accurate.\n",
      "\n",
      "Would you like help drafting a specific email? 😊\n",
      "AI: How can I assist you today?\n",
      "AI: It seems you haven't provided any input or request. How can I help you today?\n",
      "AI: Hi there! How can I assist you today? 😊\n",
      "AI: It seems like you didn't include any message. Let me know how I can help you! 😊\n",
      "AI: Hi again! Let me know if there's anything I can do for you. 😊\n",
      "AI: Here are four good practices for writing effective and professional emails:\n",
      "\n",
      "1. **Clear Subject Line**: Choose a subject line that summarizes the purpose of your email. This helps the recipient quickly understand the topic and priority of your message. For example, \"Meeting Agenda for Sept. 15\" or \"Request for Feedback on Project Proposal.\"\n",
      "\n",
      "2. **Professional Yet Friendly Tone**: Use a tone appropriate for the context. For formal emails, maintain professionalism with polite language. If you're emailing colleagues or friends, you can adopt a friendlier tone, but still stay respectful.\n",
      "\n",
      "3. **Structure and Brevity**:\n",
      "   - Start with a polite greeting.\n",
      "   - Introduce the purpose of the email in the opening sentence.\n",
      "   - Use short, concise paragraphs to structure your content.\n",
      "   - End with a clear closing and any necessary call-to-action (e.g., \"Please respond by Friday.\").\n",
      "\n",
      "4. **Proofread Before Sending**: Double-check your email for typos, grammar mistakes, and clarity. Make sure any attachments or links are correctly included, and verify that the recipient's email address is accurate.\n",
      "\n",
      "Would you like help drafting a specific email? 😊\n",
      "AI: Sure! Here’s a clear and structured response you can send to your boss:\n",
      "\n",
      "---\n",
      "\n",
      "**Subject:** Confirmation: Attendance at Interrupt \n",
      "\n",
      "Dear [Boss's Name],  \n",
      "\n",
      "Thank you for the opportunity. I’m writing to confirm that I’d like to attend Interrupt. I believe it will be a great chance to [mention a benefit, e.g., enhance my knowledge in relevant areas or contribute to our team's goals].  \n",
      "\n",
      "Please let me know if there’s anything specific you’d like me to focus on or prepare before the event.  \n",
      "\n",
      "Thank you again for the consideration.  \n",
      "\n",
      "Best regards,  \n",
      "[Your Name]  \n",
      "\n",
      "---\n",
      "\n",
      "Let me know if you'd like me to tweak or send the email for you! 😊\n",
      "AI: How can I assist you today?\n",
      "AI: It seems you haven't provided any input or request. How can I help you today?\n",
      "AI: Hi there! How can I assist you today? 😊\n",
      "AI: It seems like you didn't include any message. Let me know how I can help you! 😊\n",
      "AI: Hi again! Let me know if there's anything I can do for you. 😊\n",
      "AI: Here are four good practices for writing effective and professional emails:\n",
      "\n",
      "1. **Clear Subject Line**: Choose a subject line that summarizes the purpose of your email. This helps the recipient quickly understand the topic and priority of your message. For example, \"Meeting Agenda for Sept. 15\" or \"Request for Feedback on Project Proposal.\"\n",
      "\n",
      "2. **Professional Yet Friendly Tone**: Use a tone appropriate for the context. For formal emails, maintain professionalism with polite language. If you're emailing colleagues or friends, you can adopt a friendlier tone, but still stay respectful.\n",
      "\n",
      "3. **Structure and Brevity**:\n",
      "   - Start with a polite greeting.\n",
      "   - Introduce the purpose of the email in the opening sentence.\n",
      "   - Use short, concise paragraphs to structure your content.\n",
      "   - End with a clear closing and any necessary call-to-action (e.g., \"Please respond by Friday.\").\n",
      "\n",
      "4. **Proofread Before Sending**: Double-check your email for typos, grammar mistakes, and clarity. Make sure any attachments or links are correctly included, and verify that the recipient's email address is accurate.\n",
      "\n",
      "Would you like help drafting a specific email? 😊\n",
      "AI: Sure! Here’s a clear and structured response you can send to your boss:\n",
      "\n",
      "---\n",
      "\n",
      "**Subject:** Confirmation: Attendance at Interrupt \n",
      "\n",
      "Dear [Boss's Name],  \n",
      "\n",
      "Thank you for the opportunity. I’m writing to confirm that I’d like to attend Interrupt. I believe it will be a great chance to [mention a benefit, e.g., enhance my knowledge in relevant areas or contribute to our team's goals].  \n",
      "\n",
      "Please let me know if there’s anything specific you’d like me to focus on or prepare before the event.  \n",
      "\n",
      "Thank you again for the consideration.  \n",
      "\n",
      "Best regards,  \n",
      "[Your Name]  \n",
      "\n",
      "---\n",
      "\n",
      "Let me know if you'd like me to tweak or send the email for you! 😊\n",
      "AI: \n",
      "AI: The email has been successfully sent to your boss at \"boss@company.ai.\" Let me know if there’s anything else I can help with! 😊\n"
     ]
    }
   ],
   "source": [
    "from langchain_core.messages import HumanMessage\n",
    "from langgraph.checkpoint.memory import InMemorySaver\n",
    "from langgraph.prebuilt import create_react_agent\n",
    "\n",
    "agent=create_react_agent(\n",
    "    model=llm,\n",
    "    tools=[write_email],\n",
    "    prompt=\"Respond to user's request using the tools provided.\",\n",
    "    checkpointer=InMemorySaver()\n",
    ")\n",
    "\n",
    "\n",
    "config = {\"configurable\": {\"thread_id\": \"2\"}}\n",
    "\n",
    "while True:\n",
    "    user = input(\"You>> \")\n",
    "    if user.lower() in [\"quit\", \"exit\"]:\n",
    "        break\n",
    "\n",
    "    result = agent.invoke({\n",
    "        \"messages\": [HumanMessage(content=user)]\n",
    "    }, config)\n",
    "\n",
    "    # Print assistant messages\n",
    "    for msg in result[\"messages\"]:\n",
    "        if msg.type == \"ai\":  # or isinstance(msg, AIMessage)\n",
    "            print(\"AI:\", msg.content)\n"
   ]
  }
 ],
 "metadata": {
  "kernelspec": {
   "display_name": "venv",
   "language": "python",
   "name": "python3"
  },
  "language_info": {
   "codemirror_mode": {
    "name": "ipython",
    "version": 3
   },
   "file_extension": ".py",
   "mimetype": "text/x-python",
   "name": "python",
   "nbconvert_exporter": "python",
   "pygments_lexer": "ipython3",
   "version": "3.11.2"
  }
 },
 "nbformat": 4,
 "nbformat_minor": 5
}
